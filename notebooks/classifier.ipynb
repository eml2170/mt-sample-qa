{
 "cells": [
  {
   "cell_type": "code",
   "execution_count": 1,
   "id": "646b04e8",
   "metadata": {},
   "outputs": [],
   "source": [
    "import pandas as pd\n",
    "import matplotlib.pyplot as plt\n",
    "%matplotlib inline\n",
    "\n",
    "import random\n",
    "random.seed(42)\n",
    "\n",
    "from nltk.corpus import stopwords\n",
    "import nltk\n",
    "import numpy as np\n",
    "import re"
   ]
  },
  {
   "cell_type": "code",
   "execution_count": 2,
   "id": "7ddbcdf3",
   "metadata": {},
   "outputs": [
    {
     "name": "stdout",
     "output_type": "stream",
     "text": [
      "4999\n"
     ]
    },
    {
     "data": {
      "text/html": [
       "<div>\n",
       "<style scoped>\n",
       "    .dataframe tbody tr th:only-of-type {\n",
       "        vertical-align: middle;\n",
       "    }\n",
       "\n",
       "    .dataframe tbody tr th {\n",
       "        vertical-align: top;\n",
       "    }\n",
       "\n",
       "    .dataframe thead th {\n",
       "        text-align: right;\n",
       "    }\n",
       "</style>\n",
       "<table border=\"1\" class=\"dataframe\">\n",
       "  <thead>\n",
       "    <tr style=\"text-align: right;\">\n",
       "      <th></th>\n",
       "      <th>Unnamed: 0</th>\n",
       "      <th>description</th>\n",
       "      <th>medical_specialty</th>\n",
       "      <th>sample_name</th>\n",
       "      <th>transcription</th>\n",
       "      <th>keywords</th>\n",
       "    </tr>\n",
       "  </thead>\n",
       "  <tbody>\n",
       "    <tr>\n",
       "      <th>0</th>\n",
       "      <td>0</td>\n",
       "      <td>A 23-year-old white female presents with comp...</td>\n",
       "      <td>Allergy / Immunology</td>\n",
       "      <td>Allergic Rhinitis</td>\n",
       "      <td>SUBJECTIVE:,  This 23-year-old white female pr...</td>\n",
       "      <td>allergy / immunology, allergic rhinitis, aller...</td>\n",
       "    </tr>\n",
       "    <tr>\n",
       "      <th>1</th>\n",
       "      <td>1</td>\n",
       "      <td>Consult for laparoscopic gastric bypass.</td>\n",
       "      <td>Bariatrics</td>\n",
       "      <td>Laparoscopic Gastric Bypass Consult - 2</td>\n",
       "      <td>PAST MEDICAL HISTORY:, He has difficulty climb...</td>\n",
       "      <td>bariatrics, laparoscopic gastric bypass, weigh...</td>\n",
       "    </tr>\n",
       "    <tr>\n",
       "      <th>2</th>\n",
       "      <td>2</td>\n",
       "      <td>Consult for laparoscopic gastric bypass.</td>\n",
       "      <td>Bariatrics</td>\n",
       "      <td>Laparoscopic Gastric Bypass Consult - 1</td>\n",
       "      <td>HISTORY OF PRESENT ILLNESS: , I have seen ABC ...</td>\n",
       "      <td>bariatrics, laparoscopic gastric bypass, heart...</td>\n",
       "    </tr>\n",
       "    <tr>\n",
       "      <th>3</th>\n",
       "      <td>3</td>\n",
       "      <td>2-D M-Mode. Doppler.</td>\n",
       "      <td>Cardiovascular / Pulmonary</td>\n",
       "      <td>2-D Echocardiogram - 1</td>\n",
       "      <td>2-D M-MODE: , ,1.  Left atrial enlargement wit...</td>\n",
       "      <td>cardiovascular / pulmonary, 2-d m-mode, dopple...</td>\n",
       "    </tr>\n",
       "    <tr>\n",
       "      <th>4</th>\n",
       "      <td>4</td>\n",
       "      <td>2-D Echocardiogram</td>\n",
       "      <td>Cardiovascular / Pulmonary</td>\n",
       "      <td>2-D Echocardiogram - 2</td>\n",
       "      <td>1.  The left ventricular cavity size and wall ...</td>\n",
       "      <td>cardiovascular / pulmonary, 2-d, doppler, echo...</td>\n",
       "    </tr>\n",
       "  </tbody>\n",
       "</table>\n",
       "</div>"
      ],
      "text/plain": [
       "   Unnamed: 0                                        description  \\\n",
       "0           0   A 23-year-old white female presents with comp...   \n",
       "1           1           Consult for laparoscopic gastric bypass.   \n",
       "2           2           Consult for laparoscopic gastric bypass.   \n",
       "3           3                             2-D M-Mode. Doppler.     \n",
       "4           4                                 2-D Echocardiogram   \n",
       "\n",
       "             medical_specialty                                sample_name  \\\n",
       "0         Allergy / Immunology                         Allergic Rhinitis    \n",
       "1                   Bariatrics   Laparoscopic Gastric Bypass Consult - 2    \n",
       "2                   Bariatrics   Laparoscopic Gastric Bypass Consult - 1    \n",
       "3   Cardiovascular / Pulmonary                    2-D Echocardiogram - 1    \n",
       "4   Cardiovascular / Pulmonary                    2-D Echocardiogram - 2    \n",
       "\n",
       "                                       transcription  \\\n",
       "0  SUBJECTIVE:,  This 23-year-old white female pr...   \n",
       "1  PAST MEDICAL HISTORY:, He has difficulty climb...   \n",
       "2  HISTORY OF PRESENT ILLNESS: , I have seen ABC ...   \n",
       "3  2-D M-MODE: , ,1.  Left atrial enlargement wit...   \n",
       "4  1.  The left ventricular cavity size and wall ...   \n",
       "\n",
       "                                            keywords  \n",
       "0  allergy / immunology, allergic rhinitis, aller...  \n",
       "1  bariatrics, laparoscopic gastric bypass, weigh...  \n",
       "2  bariatrics, laparoscopic gastric bypass, heart...  \n",
       "3  cardiovascular / pulmonary, 2-d m-mode, dopple...  \n",
       "4  cardiovascular / pulmonary, 2-d, doppler, echo...  "
      ]
     },
     "execution_count": 2,
     "metadata": {},
     "output_type": "execute_result"
    }
   ],
   "source": [
    "df = pd.read_csv(\"../data/mtsamples.csv\")\n",
    "print(len(df))\n",
    "df.head()"
   ]
  },
  {
   "cell_type": "markdown",
   "id": "86274365",
   "metadata": {},
   "source": [
    "Because of the long tail, going to focus on top specialties only, say with >100 samples. Note there is a kind of inconsistent semantics here with visit types mixed in, we'll take a look at that in error analysis."
   ]
  },
  {
   "cell_type": "code",
   "execution_count": 3,
   "id": "e0ee3c2f",
   "metadata": {},
   "outputs": [
    {
     "data": {
      "text/plain": [
       "medical_specialty\n",
       "Surgery                          1103\n",
       "Consult - History and Phy.        516\n",
       "Cardiovascular / Pulmonary        372\n",
       "Orthopedic                        355\n",
       "Radiology                         273\n",
       "General Medicine                  259\n",
       "Gastroenterology                  230\n",
       "Neurology                         223\n",
       "SOAP / Chart / Progress Notes     166\n",
       "Obstetrics / Gynecology           160\n",
       "Urology                           158\n",
       "Discharge Summary                 108\n",
       "Name: count, dtype: int64"
      ]
     },
     "execution_count": 3,
     "metadata": {},
     "output_type": "execute_result"
    }
   ],
   "source": [
    "top_specialties = df.medical_specialty.value_counts()\n",
    "top_specialties = top_specialties[top_specialties > 100]\n",
    "top_specialties\n",
    "\n"
   ]
  },
  {
   "cell_type": "code",
   "execution_count": 6,
   "id": "1d7006c1",
   "metadata": {},
   "outputs": [
    {
     "name": "stdout",
     "output_type": "stream",
     "text": [
      "Went from 3923 samples to 3923 samples\n"
     ]
    },
    {
     "data": {
      "text/html": [
       "<div>\n",
       "<style scoped>\n",
       "    .dataframe tbody tr th:only-of-type {\n",
       "        vertical-align: middle;\n",
       "    }\n",
       "\n",
       "    .dataframe tbody tr th {\n",
       "        vertical-align: top;\n",
       "    }\n",
       "\n",
       "    .dataframe thead th {\n",
       "        text-align: right;\n",
       "    }\n",
       "</style>\n",
       "<table border=\"1\" class=\"dataframe\">\n",
       "  <thead>\n",
       "    <tr style=\"text-align: right;\">\n",
       "      <th></th>\n",
       "      <th>Unnamed: 0</th>\n",
       "      <th>description</th>\n",
       "      <th>medical_specialty</th>\n",
       "      <th>sample_name</th>\n",
       "      <th>transcription</th>\n",
       "      <th>keywords</th>\n",
       "      <th>target</th>\n",
       "    </tr>\n",
       "  </thead>\n",
       "  <tbody>\n",
       "    <tr>\n",
       "      <th>3</th>\n",
       "      <td>3</td>\n",
       "      <td>2-D M-Mode. Doppler.</td>\n",
       "      <td>Cardiovascular / Pulmonary</td>\n",
       "      <td>2-D Echocardiogram - 1</td>\n",
       "      <td>2-D M-MODE: , ,1.  Left atrial enlargement wit...</td>\n",
       "      <td>cardiovascular / pulmonary, 2-d m-mode, dopple...</td>\n",
       "      <td>[0, 0, 1, 0, 0, 0, 0, 0, 0, 0, 0, 0]</td>\n",
       "    </tr>\n",
       "    <tr>\n",
       "      <th>4</th>\n",
       "      <td>4</td>\n",
       "      <td>2-D Echocardiogram</td>\n",
       "      <td>Cardiovascular / Pulmonary</td>\n",
       "      <td>2-D Echocardiogram - 2</td>\n",
       "      <td>1.  The left ventricular cavity size and wall ...</td>\n",
       "      <td>cardiovascular / pulmonary, 2-d, doppler, echo...</td>\n",
       "      <td>[0, 0, 1, 0, 0, 0, 0, 0, 0, 0, 0, 0]</td>\n",
       "    </tr>\n",
       "    <tr>\n",
       "      <th>7</th>\n",
       "      <td>7</td>\n",
       "      <td>2-D Echocardiogram</td>\n",
       "      <td>Cardiovascular / Pulmonary</td>\n",
       "      <td>2-D Echocardiogram - 3</td>\n",
       "      <td>2-D ECHOCARDIOGRAM,Multiple views of the heart...</td>\n",
       "      <td>cardiovascular / pulmonary, 2-d echocardiogram...</td>\n",
       "      <td>[0, 0, 1, 0, 0, 0, 0, 0, 0, 0, 0, 0]</td>\n",
       "    </tr>\n",
       "    <tr>\n",
       "      <th>9</th>\n",
       "      <td>9</td>\n",
       "      <td>Echocardiogram and Doppler</td>\n",
       "      <td>Cardiovascular / Pulmonary</td>\n",
       "      <td>2-D Echocardiogram - 4</td>\n",
       "      <td>DESCRIPTION:,1.  Normal cardiac chambers size....</td>\n",
       "      <td>cardiovascular / pulmonary, ejection fraction,...</td>\n",
       "      <td>[0, 0, 1, 0, 0, 0, 0, 0, 0, 0, 0, 0]</td>\n",
       "    </tr>\n",
       "    <tr>\n",
       "      <th>11</th>\n",
       "      <td>11</td>\n",
       "      <td>Normal left ventricle, moderate biatrial enla...</td>\n",
       "      <td>Cardiovascular / Pulmonary</td>\n",
       "      <td>2-D Doppler</td>\n",
       "      <td>2-D STUDY,1. Mild aortic stenosis, widely calc...</td>\n",
       "      <td>cardiovascular / pulmonary, 2-d study, doppler...</td>\n",
       "      <td>[0, 0, 1, 0, 0, 0, 0, 0, 0, 0, 0, 0]</td>\n",
       "    </tr>\n",
       "  </tbody>\n",
       "</table>\n",
       "</div>"
      ],
      "text/plain": [
       "    Unnamed: 0                                        description  \\\n",
       "3            3                             2-D M-Mode. Doppler.     \n",
       "4            4                                 2-D Echocardiogram   \n",
       "7            7                                 2-D Echocardiogram   \n",
       "9            9                         Echocardiogram and Doppler   \n",
       "11          11   Normal left ventricle, moderate biatrial enla...   \n",
       "\n",
       "              medical_specialty               sample_name  \\\n",
       "3    Cardiovascular / Pulmonary   2-D Echocardiogram - 1    \n",
       "4    Cardiovascular / Pulmonary   2-D Echocardiogram - 2    \n",
       "7    Cardiovascular / Pulmonary   2-D Echocardiogram - 3    \n",
       "9    Cardiovascular / Pulmonary   2-D Echocardiogram - 4    \n",
       "11   Cardiovascular / Pulmonary              2-D Doppler    \n",
       "\n",
       "                                        transcription  \\\n",
       "3   2-D M-MODE: , ,1.  Left atrial enlargement wit...   \n",
       "4   1.  The left ventricular cavity size and wall ...   \n",
       "7   2-D ECHOCARDIOGRAM,Multiple views of the heart...   \n",
       "9   DESCRIPTION:,1.  Normal cardiac chambers size....   \n",
       "11  2-D STUDY,1. Mild aortic stenosis, widely calc...   \n",
       "\n",
       "                                             keywords  \\\n",
       "3   cardiovascular / pulmonary, 2-d m-mode, dopple...   \n",
       "4   cardiovascular / pulmonary, 2-d, doppler, echo...   \n",
       "7   cardiovascular / pulmonary, 2-d echocardiogram...   \n",
       "9   cardiovascular / pulmonary, ejection fraction,...   \n",
       "11  cardiovascular / pulmonary, 2-d study, doppler...   \n",
       "\n",
       "                                  target  \n",
       "3   [0, 0, 1, 0, 0, 0, 0, 0, 0, 0, 0, 0]  \n",
       "4   [0, 0, 1, 0, 0, 0, 0, 0, 0, 0, 0, 0]  \n",
       "7   [0, 0, 1, 0, 0, 0, 0, 0, 0, 0, 0, 0]  \n",
       "9   [0, 0, 1, 0, 0, 0, 0, 0, 0, 0, 0, 0]  \n",
       "11  [0, 0, 1, 0, 0, 0, 0, 0, 0, 0, 0, 0]  "
      ]
     },
     "execution_count": 6,
     "metadata": {},
     "output_type": "execute_result"
    }
   ],
   "source": [
    "classes = list(top_specialties.keys())\n",
    "prev_count = len(df)\n",
    "df = df.loc[df.medical_specialty.isin(classes)]\n",
    "print(f\"Went from {prev_count} samples to {len(df)} samples\")\n",
    "\n",
    "class_dict = {c:i for i, c in enumerate(classes)}\n",
    "\n",
    "def one_hot_encode(specialty):\n",
    "    y = np.zeros(len(classes), dtype=int)\n",
    "    y[class_dict[specialty]] = 1\n",
    "    return y\n",
    "\n",
    "df[\"target\"] = df.medical_specialty.apply(one_hot_encode)\n",
    "df.head()"
   ]
  },
  {
   "cell_type": "code",
   "execution_count": 27,
   "id": "83cb97a1",
   "metadata": {},
   "outputs": [
    {
     "data": {
      "text/plain": [
       "(3334, 589)"
      ]
     },
     "execution_count": 27,
     "metadata": {},
     "output_type": "execute_result"
    }
   ],
   "source": [
    "# train-val-test\n",
    "# df[\"split\"] = random.choices(\n",
    "#     [\"train\", \"val\", \"test\"],\n",
    "#     weights=[0.7, 0.15, 0.15],\n",
    "#     k=len(df)\n",
    "# )\n",
    "\n",
    "# Create indices for train-test split\n",
    "indices = np.arange(len(df))\n",
    "np.random.shuffle(indices)  # Shuffle the indices\n",
    "\n",
    "# Calculate split point (85% train, 15% test)\n",
    "split_idx = int(0.85 * len(indices))\n",
    "train_indices = indices[:split_idx]\n",
    "test_indices = indices[split_idx:]\n",
    "\n",
    "len(train_indices), len(test_indices)\n"
   ]
  },
  {
   "cell_type": "markdown",
   "id": "5646c43a",
   "metadata": {},
   "source": [
    "# Pre-processing\n",
    "- lower case\n",
    "- remove punctuation and symbols\n",
    "- remove stopwords\n",
    "\n",
    "# Featurization\n",
    "- BoW\n",
    "- TF-IDF\n",
    "- Embedding layer\n",
    "- Pre-trained embedding"
   ]
  },
  {
   "cell_type": "code",
   "execution_count": 8,
   "id": "6b131b5e",
   "metadata": {},
   "outputs": [
    {
     "name": "stdout",
     "output_type": "stream",
     "text": [
      "Original vs Processed example:\n",
      "Original: 2-D M-MODE: , ,1.  Left atrial enlargement with left atrial diameter of 4.7 cm.,2.  Normal size righ ...\n",
      "Processed: 2d mmode 1 left atrial enlargement left atrial diameter 47 cm2 normal size right left ventricle3 nor ...\n"
     ]
    },
    {
     "data": {
      "text/html": [
       "<div>\n",
       "<style scoped>\n",
       "    .dataframe tbody tr th:only-of-type {\n",
       "        vertical-align: middle;\n",
       "    }\n",
       "\n",
       "    .dataframe tbody tr th {\n",
       "        vertical-align: top;\n",
       "    }\n",
       "\n",
       "    .dataframe thead th {\n",
       "        text-align: right;\n",
       "    }\n",
       "</style>\n",
       "<table border=\"1\" class=\"dataframe\">\n",
       "  <thead>\n",
       "    <tr style=\"text-align: right;\">\n",
       "      <th></th>\n",
       "      <th>Unnamed: 0</th>\n",
       "      <th>description</th>\n",
       "      <th>medical_specialty</th>\n",
       "      <th>sample_name</th>\n",
       "      <th>transcription</th>\n",
       "      <th>keywords</th>\n",
       "      <th>target</th>\n",
       "      <th>split</th>\n",
       "      <th>processed_transcription</th>\n",
       "    </tr>\n",
       "  </thead>\n",
       "  <tbody>\n",
       "    <tr>\n",
       "      <th>3</th>\n",
       "      <td>3</td>\n",
       "      <td>2-D M-Mode. Doppler.</td>\n",
       "      <td>Cardiovascular / Pulmonary</td>\n",
       "      <td>2-D Echocardiogram - 1</td>\n",
       "      <td>2-D M-MODE: , ,1.  Left atrial enlargement wit...</td>\n",
       "      <td>cardiovascular / pulmonary, 2-d m-mode, dopple...</td>\n",
       "      <td>[0, 0, 1, 0, 0, 0, 0, 0, 0, 0, 0, 0]</td>\n",
       "      <td>train</td>\n",
       "      <td>2d mmode 1 left atrial enlargement left atrial...</td>\n",
       "    </tr>\n",
       "    <tr>\n",
       "      <th>4</th>\n",
       "      <td>4</td>\n",
       "      <td>2-D Echocardiogram</td>\n",
       "      <td>Cardiovascular / Pulmonary</td>\n",
       "      <td>2-D Echocardiogram - 2</td>\n",
       "      <td>1.  The left ventricular cavity size and wall ...</td>\n",
       "      <td>cardiovascular / pulmonary, 2-d, doppler, echo...</td>\n",
       "      <td>[0, 0, 1, 0, 0, 0, 0, 0, 0, 0, 0, 0]</td>\n",
       "      <td>train</td>\n",
       "      <td>1 left ventricular cavity size wall thickness ...</td>\n",
       "    </tr>\n",
       "    <tr>\n",
       "      <th>7</th>\n",
       "      <td>7</td>\n",
       "      <td>2-D Echocardiogram</td>\n",
       "      <td>Cardiovascular / Pulmonary</td>\n",
       "      <td>2-D Echocardiogram - 3</td>\n",
       "      <td>2-D ECHOCARDIOGRAM,Multiple views of the heart...</td>\n",
       "      <td>cardiovascular / pulmonary, 2-d echocardiogram...</td>\n",
       "      <td>[0, 0, 1, 0, 0, 0, 0, 0, 0, 0, 0, 0]</td>\n",
       "      <td>train</td>\n",
       "      <td>2d echocardiogrammultiple views heart great ve...</td>\n",
       "    </tr>\n",
       "    <tr>\n",
       "      <th>9</th>\n",
       "      <td>9</td>\n",
       "      <td>Echocardiogram and Doppler</td>\n",
       "      <td>Cardiovascular / Pulmonary</td>\n",
       "      <td>2-D Echocardiogram - 4</td>\n",
       "      <td>DESCRIPTION:,1.  Normal cardiac chambers size....</td>\n",
       "      <td>cardiovascular / pulmonary, ejection fraction,...</td>\n",
       "      <td>[0, 0, 1, 0, 0, 0, 0, 0, 0, 0, 0, 0]</td>\n",
       "      <td>train</td>\n",
       "      <td>description1 normal cardiac chambers size2 nor...</td>\n",
       "    </tr>\n",
       "    <tr>\n",
       "      <th>11</th>\n",
       "      <td>11</td>\n",
       "      <td>Normal left ventricle, moderate biatrial enla...</td>\n",
       "      <td>Cardiovascular / Pulmonary</td>\n",
       "      <td>2-D Doppler</td>\n",
       "      <td>2-D STUDY,1. Mild aortic stenosis, widely calc...</td>\n",
       "      <td>cardiovascular / pulmonary, 2-d study, doppler...</td>\n",
       "      <td>[0, 0, 1, 0, 0, 0, 0, 0, 0, 0, 0, 0]</td>\n",
       "      <td>train</td>\n",
       "      <td>2d study1 mild aortic stenosis widely calcifie...</td>\n",
       "    </tr>\n",
       "  </tbody>\n",
       "</table>\n",
       "</div>"
      ],
      "text/plain": [
       "    Unnamed: 0                                        description  \\\n",
       "3            3                             2-D M-Mode. Doppler.     \n",
       "4            4                                 2-D Echocardiogram   \n",
       "7            7                                 2-D Echocardiogram   \n",
       "9            9                         Echocardiogram and Doppler   \n",
       "11          11   Normal left ventricle, moderate biatrial enla...   \n",
       "\n",
       "              medical_specialty               sample_name  \\\n",
       "3    Cardiovascular / Pulmonary   2-D Echocardiogram - 1    \n",
       "4    Cardiovascular / Pulmonary   2-D Echocardiogram - 2    \n",
       "7    Cardiovascular / Pulmonary   2-D Echocardiogram - 3    \n",
       "9    Cardiovascular / Pulmonary   2-D Echocardiogram - 4    \n",
       "11   Cardiovascular / Pulmonary              2-D Doppler    \n",
       "\n",
       "                                        transcription  \\\n",
       "3   2-D M-MODE: , ,1.  Left atrial enlargement wit...   \n",
       "4   1.  The left ventricular cavity size and wall ...   \n",
       "7   2-D ECHOCARDIOGRAM,Multiple views of the heart...   \n",
       "9   DESCRIPTION:,1.  Normal cardiac chambers size....   \n",
       "11  2-D STUDY,1. Mild aortic stenosis, widely calc...   \n",
       "\n",
       "                                             keywords  \\\n",
       "3   cardiovascular / pulmonary, 2-d m-mode, dopple...   \n",
       "4   cardiovascular / pulmonary, 2-d, doppler, echo...   \n",
       "7   cardiovascular / pulmonary, 2-d echocardiogram...   \n",
       "9   cardiovascular / pulmonary, ejection fraction,...   \n",
       "11  cardiovascular / pulmonary, 2-d study, doppler...   \n",
       "\n",
       "                                  target  split  \\\n",
       "3   [0, 0, 1, 0, 0, 0, 0, 0, 0, 0, 0, 0]  train   \n",
       "4   [0, 0, 1, 0, 0, 0, 0, 0, 0, 0, 0, 0]  train   \n",
       "7   [0, 0, 1, 0, 0, 0, 0, 0, 0, 0, 0, 0]  train   \n",
       "9   [0, 0, 1, 0, 0, 0, 0, 0, 0, 0, 0, 0]  train   \n",
       "11  [0, 0, 1, 0, 0, 0, 0, 0, 0, 0, 0, 0]  train   \n",
       "\n",
       "                              processed_transcription  \n",
       "3   2d mmode 1 left atrial enlargement left atrial...  \n",
       "4   1 left ventricular cavity size wall thickness ...  \n",
       "7   2d echocardiogrammultiple views heart great ve...  \n",
       "9   description1 normal cardiac chambers size2 nor...  \n",
       "11  2d study1 mild aortic stenosis widely calcifie...  "
      ]
     },
     "execution_count": 8,
     "metadata": {},
     "output_type": "execute_result"
    }
   ],
   "source": [
    "def preprocess_text(text):\n",
    "    text = str(text).lower()\n",
    "    text = re.sub(r'[^\\w\\s]', '', text)\n",
    "    \n",
    "    # Make sure stopwords are downloaded\n",
    "    try:\n",
    "        nltk.data.find('corpora/stopwords')\n",
    "    except LookupError:\n",
    "        nltk.download('stopwords')\n",
    "    \n",
    "    stop_words = set(stopwords.words('english'))\n",
    "    text = ' '.join([word for word in text.split() if word not in stop_words])\n",
    "    \n",
    "    return text\n",
    "\n",
    "df['processed_transcription'] = df['transcription'].apply(preprocess_text)\n",
    "\n",
    "# Display a sample to verify the preprocessing\n",
    "print(\"Original vs Processed example:\")\n",
    "sample_idx = 0\n",
    "print(\"Original:\", df['transcription'].iloc[sample_idx][:100], \"...\")\n",
    "print(\"Processed:\", df['processed_transcription'].iloc[sample_idx][:100], \"...\")\n",
    "df.head()"
   ]
  },
  {
   "cell_type": "code",
   "execution_count": 9,
   "id": "290fed9e",
   "metadata": {},
   "outputs": [
    {
     "data": {
      "text/plain": [
       "42891"
      ]
     },
     "execution_count": 9,
     "metadata": {},
     "output_type": "execute_result"
    }
   ],
   "source": [
    "vocab = {}\n",
    "for _, row in df.iterrows():\n",
    "    x = row[\"processed_transcription\"]\n",
    "    for word in x.split():\n",
    "        vocab[word] = vocab.get(word, 0) + 1\n",
    "len(vocab)"
   ]
  },
  {
   "cell_type": "code",
   "execution_count": 10,
   "id": "b2b56fdb",
   "metadata": {},
   "outputs": [
    {
     "data": {
      "image/png": "[encoded data removed]",
      "text/plain": [
       "<Figure size 1200x600 with 1 Axes>"
      ]
     },
     "metadata": {},
     "output_type": "display_data"
    },
    {
     "data": {
      "image/png": "[encoded data removed]",
      "text/plain": [
       "<Figure size 1200x600 with 1 Axes>"
      ]
     },
     "metadata": {},
     "output_type": "display_data"
    },
    {
     "data": {
      "text/plain": [
       "patient      16819\n",
       "right         8995\n",
       "left          8852\n",
       "history       6085\n",
       "placed        5646\n",
       "normal        5376\n",
       "well          4571\n",
       "procedure     4022\n",
       "pain          4006\n",
       "also          3273\n",
       "using         3268\n",
       "mg            3133\n",
       "blood         3041\n",
       "time          3038\n",
       "noted         3029\n",
       "performed     2883\n",
       "without       2881\n",
       "incision      2846\n",
       "removed       2826\n",
       "used          2748\n",
       "dtype: int64"
      ]
     },
     "execution_count": 10,
     "metadata": {},
     "output_type": "execute_result"
    }
   ],
   "source": [
    "# Convert vocab to a pandas Series for easier manipulation\n",
    "word_counts = pd.Series(vocab)\n",
    "\n",
    "# Sort by frequency (descending)\n",
    "word_counts = word_counts.sort_values(ascending=False)\n",
    "\n",
    "# Plot the distribution of the top 50 words\n",
    "plt.figure(figsize=(12, 6))\n",
    "word_counts.head(50).plot(kind='bar')\n",
    "plt.title('Top 50 Words by Frequency')\n",
    "plt.xlabel('Words')\n",
    "plt.ylabel('Frequency')\n",
    "plt.xticks(rotation=90)\n",
    "plt.tight_layout()\n",
    "plt.show()\n",
    "\n",
    "# Plot the overall distribution\n",
    "plt.figure(figsize=(12, 6))\n",
    "plt.plot(range(len(word_counts)), word_counts.values)\n",
    "plt.title('Word Frequency Distribution')\n",
    "plt.xlabel('Word Rank')\n",
    "plt.ylabel('Frequency')\n",
    "plt.xscale('log')\n",
    "plt.yscale('log')\n",
    "plt.grid(True, alpha=0.3)\n",
    "plt.tight_layout()\n",
    "plt.show()\n",
    "\n",
    "# Display the top 20 words\n",
    "word_counts.head(20)"
   ]
  },
  {
   "cell_type": "code",
   "execution_count": 17,
   "id": "e0fb6b52",
   "metadata": {},
   "outputs": [
    {
     "data": {
      "text/plain": [
       "8288"
      ]
     },
     "execution_count": 17,
     "metadata": {},
     "output_type": "execute_result"
    }
   ],
   "source": [
    "k = 10  \n",
    "vocab_filtered = [word for word in vocab if vocab[word] > k]  # same order of magnitude as n\n",
    "p = len(vocab_filtered)\n",
    "p"
   ]
  },
  {
   "cell_type": "code",
   "execution_count": 23,
   "id": "c648ffd4",
   "metadata": {},
   "outputs": [
    {
     "data": {
      "text/plain": [
       "(array([[0., 0., 0., ..., 0., 0., 0.],\n",
       "        [0., 0., 0., ..., 0., 0., 0.],\n",
       "        [0., 0., 0., ..., 0., 0., 0.],\n",
       "        ...,\n",
       "        [0., 0., 0., ..., 0., 0., 0.],\n",
       "        [0., 1., 1., ..., 0., 0., 0.],\n",
       "        [0., 3., 1., ..., 0., 0., 0.]], shape=(3923, 8288)),\n",
       " array([[0., 0., 0., ..., 0., 0., 0.],\n",
       "        [0., 0., 0., ..., 0., 0., 0.],\n",
       "        [0., 0., 0., ..., 0., 0., 0.],\n",
       "        ...,\n",
       "        [0., 0., 0., ..., 0., 0., 1.],\n",
       "        [0., 0., 0., ..., 0., 0., 1.],\n",
       "        [0., 0., 0., ..., 0., 0., 1.]], shape=(3923, 12)))"
      ]
     },
     "execution_count": 23,
     "metadata": {},
     "output_type": "execute_result"
    }
   ],
   "source": [
    "n = len(df)\n",
    "\n",
    "X = np.zeros((n,p))\n",
    "y = np.zeros((n,len(classes)))\n",
    "\n",
    "from collections import Counter\n",
    "def get_word_counts(s):\n",
    "    freqs = Counter()\n",
    "    for word in s.split():\n",
    "        freqs[word] += 1\n",
    "    return freqs\n",
    "\n",
    "for i, row in df.iterrows():\n",
    "    doc = row.processed_transcription\n",
    "    freqs = get_word_counts(doc)\n",
    "    x_bow = np.zeros(p)\n",
    "    for j in range(p):\n",
    "        word = vocab_filtered[j]\n",
    "        x_bow[j] = freqs[word]\n",
    "    X[i:] = x_bow\n",
    "    y[i:] = row.target\n",
    "X, y\n",
    "\n",
    "# def get_bow_vector_binary(document):\n",
    "#     return [1 if word in document else 0 for word in vocab_filtered]\n",
    "\n",
    "# df[\"bow_binary\"] = df.processed_transcription.apply(get_bow_vector_binary)\n"
   ]
  },
  {
   "cell_type": "code",
   "execution_count": 19,
   "id": "98cf2219",
   "metadata": {},
   "outputs": [
    {
     "name": "stdout",
     "output_type": "stream",
     "text": [
      "Sparsity of X: 0.9806 (98.06%)\n",
      "Density of X: 0.0194 (1.94%)\n"
     ]
    }
   ],
   "source": [
    "# Calculate sparsity of X\n",
    "# Sparsity is the percentage of zero elements in the matrix\n",
    "sparsity = np.count_nonzero(X == 0) / X.size\n",
    "print(f\"Sparsity of X: {sparsity:.4f} ({sparsity*100:.2f}%)\")\n",
    "\n",
    "# Alternatively, we can calculate density (non-zero elements)\n",
    "density = 1 - sparsity\n",
    "print(f\"Density of X: {density:.4f} ({density*100:.2f}%)\")\n"
   ]
  },
  {
   "cell_type": "code",
   "execution_count": 29,
   "id": "dde2b58e",
   "metadata": {},
   "outputs": [
    {
     "data": {
      "text/plain": [
       "(array([[0., 0., 0., ..., 0., 0., 0.],\n",
       "        [0., 0., 0., ..., 0., 0., 0.],\n",
       "        [0., 0., 4., ..., 0., 0., 0.],\n",
       "        ...,\n",
       "        [0., 0., 1., ..., 0., 0., 0.],\n",
       "        [0., 1., 0., ..., 0., 0., 0.],\n",
       "        [0., 1., 1., ..., 0., 0., 0.]], shape=(3334, 8288)),\n",
       " array([[0., 0., 0., ..., 0., 0., 0.],\n",
       "        [0., 0., 0., ..., 0., 0., 1.],\n",
       "        [0., 0., 0., ..., 0., 1., 0.],\n",
       "        ...,\n",
       "        [1., 0., 0., ..., 0., 0., 0.],\n",
       "        [0., 0., 0., ..., 0., 0., 0.],\n",
       "        [0., 0., 0., ..., 0., 0., 0.]], shape=(3334, 12)))"
      ]
     },
     "execution_count": 29,
     "metadata": {},
     "output_type": "execute_result"
    }
   ],
   "source": [
    "X[train_indices], y[train_indices]"
   ]
  },
  {
   "cell_type": "code",
   "execution_count": 127,
   "id": "f0c51f05",
   "metadata": {},
   "outputs": [],
   "source": [
    "import torch\n",
    "from torch.nn import Linear\n",
    "\n",
    "class LogisticRegression(torch.nn.Module):\n",
    "    def __init__(self, p, num_classes):\n",
    "        super().__init__()\n",
    "        self.linear = Linear(p, num_classes)\n",
    "        # self.softmax = torch.nn.Softmax(dim=1)  # don't need to use softmax in forward if using crossentropyloss\n",
    "    \n",
    "    def forward(self, x):\n",
    "        return self.linear(x)\n",
    "        # return self.softmax(self.linear(x))\n",
    "    \n",
    "class MLP(torch.nn.Module):\n",
    "    def __init__(self, p, hidden_size, num_classes):\n",
    "        super().__init__()\n",
    "        self.hidden = Linear(p, hidden_size)\n",
    "        self.relu = torch.nn.ReLU()\n",
    "        self.linear = Linear(hidden_size, num_classes)\n",
    "        # self.softmax = torch.nn.Softmax(dim=1)\n",
    "    \n",
    "    def forward(self, x):\n",
    "        x = self.hidden(x)\n",
    "        x = self.relu(x)\n",
    "        x = self.linear(x)\n",
    "        return x\n",
    "        # return self.softmax(x)"
   ]
  },
  {
   "cell_type": "code",
   "execution_count": 134,
   "id": "8dda53ce",
   "metadata": {},
   "outputs": [
    {
     "name": "stdout",
     "output_type": "stream",
     "text": [
      "Iteration 0: Train loss: 2.4838, Validation loss: 2.3476\n",
      "Iteration 10: Train loss: 1.4362, Validation loss: 1.4367\n",
      "Iteration 20: Train loss: 1.3447, Validation loss: 1.2331\n",
      "Iteration 30: Train loss: 1.1784, Validation loss: 1.0685\n",
      "Iteration 40: Train loss: 1.1654, Validation loss: 0.9889\n",
      "Iteration 50: Train loss: 0.9435, Validation loss: 1.0880\n",
      "Iteration 60: Train loss: 0.9561, Validation loss: 1.0435\n",
      "Iteration 70: Train loss: 1.0068, Validation loss: 0.9626\n",
      "Iteration 80: Train loss: 1.0184, Validation loss: 0.8131\n",
      "Iteration 90: Train loss: 0.8508, Validation loss: 0.7890\n",
      "Iteration 100: Train loss: 0.8198, Validation loss: 0.7616\n",
      "Iteration 110: Train loss: 0.7564, Validation loss: 0.8270\n",
      "Iteration 120: Train loss: 0.7892, Validation loss: 0.7490\n",
      "Iteration 130: Train loss: 0.7866, Validation loss: 0.7555\n",
      "Iteration 140: Train loss: 0.8496, Validation loss: 0.6995\n",
      "Iteration 150: Train loss: 0.5915, Validation loss: 0.7073\n",
      "Iteration 160: Train loss: 0.6425, Validation loss: 0.6665\n",
      "Iteration 170: Train loss: 0.7142, Validation loss: 0.6577\n",
      "Iteration 180: Train loss: 0.7571, Validation loss: 0.6335\n",
      "Iteration 190: Train loss: 0.6333, Validation loss: 0.5967\n",
      "Iteration 200: Train loss: 0.6073, Validation loss: 0.6421\n",
      "Iteration 210: Train loss: 0.7954, Validation loss: 0.6943\n",
      "Iteration 220: Train loss: 0.6246, Validation loss: 0.5813\n",
      "Iteration 230: Train loss: 0.6531, Validation loss: 0.6087\n",
      "Iteration 240: Train loss: 0.5912, Validation loss: 0.6197\n",
      "Iteration 250: Train loss: 0.5443, Validation loss: 0.5757\n",
      "Iteration 260: Train loss: 0.5935, Validation loss: 0.6084\n",
      "Iteration 270: Train loss: 0.5307, Validation loss: 0.5821\n",
      "Iteration 280: Train loss: 0.6453, Validation loss: 0.5726\n",
      "Iteration 290: Train loss: 0.5877, Validation loss: 0.5373\n",
      "Iteration 300: Train loss: 0.5068, Validation loss: 0.5354\n",
      "Iteration 310: Train loss: 0.6167, Validation loss: 0.5624\n",
      "Iteration 320: Train loss: 0.6370, Validation loss: 0.5525\n",
      "Iteration 330: Train loss: 0.5562, Validation loss: 0.4973\n",
      "Iteration 340: Train loss: 0.4848, Validation loss: 0.5241\n",
      "Iteration 350: Train loss: 0.4609, Validation loss: 0.5928\n",
      "Iteration 360: Train loss: 0.5651, Validation loss: 0.5172\n",
      "Iteration 370: Train loss: 0.5036, Validation loss: 0.5000\n",
      "Iteration 380: Train loss: 0.4655, Validation loss: 0.5430\n",
      "Iteration 390: Train loss: 0.5425, Validation loss: 0.4854\n",
      "Iteration 400: Train loss: 0.5423, Validation loss: 0.5165\n",
      "Iteration 410: Train loss: 0.6711, Validation loss: 0.5148\n",
      "Iteration 420: Train loss: 0.5251, Validation loss: 0.5716\n",
      "Iteration 430: Train loss: 0.5464, Validation loss: 0.4705\n",
      "Iteration 440: Train loss: 0.6797, Validation loss: 0.5768\n",
      "Iteration 450: Train loss: 0.5103, Validation loss: 0.5148\n",
      "Iteration 460: Train loss: 0.4970, Validation loss: 0.4701\n",
      "Iteration 470: Train loss: 0.5886, Validation loss: 0.5170\n",
      "Iteration 480: Train loss: 0.5037, Validation loss: 0.4979\n",
      "Iteration 490: Train loss: 0.5038, Validation loss: 0.4907\n",
      "Iteration 500: Train loss: 0.5483, Validation loss: 0.5323\n",
      "Iteration 510: Train loss: 0.4244, Validation loss: 0.5331\n",
      "Iteration 520: Train loss: 0.4939, Validation loss: 0.4864\n",
      "Iteration 530: Train loss: 0.4393, Validation loss: 0.5197\n",
      "Iteration 540: Train loss: 0.4706, Validation loss: 0.5138\n",
      "Iteration 550: Train loss: 0.5436, Validation loss: 0.4439\n",
      "Iteration 560: Train loss: 0.4441, Validation loss: 0.5603\n",
      "Iteration 570: Train loss: 0.3967, Validation loss: 0.4472\n",
      "Iteration 580: Train loss: 0.4080, Validation loss: 0.4932\n",
      "Iteration 590: Train loss: 0.4294, Validation loss: 0.4671\n",
      "Iteration 600: Train loss: 0.5291, Validation loss: 0.5124\n",
      "Iteration 610: Train loss: 0.5156, Validation loss: 0.5006\n",
      "Iteration 620: Train loss: 0.3772, Validation loss: 0.4677\n",
      "Iteration 630: Train loss: 0.5424, Validation loss: 0.4779\n",
      "Iteration 640: Train loss: 0.6059, Validation loss: 0.4967\n",
      "Iteration 650: Train loss: 0.4754, Validation loss: 0.5508\n",
      "Iteration 660: Train loss: 0.4422, Validation loss: 0.5052\n",
      "Iteration 670: Train loss: 0.4177, Validation loss: 0.4632\n",
      "Iteration 680: Train loss: 0.4893, Validation loss: 0.4658\n",
      "Iteration 690: Train loss: 0.5174, Validation loss: 0.4825\n",
      "Iteration 700: Train loss: 0.5752, Validation loss: 0.5336\n",
      "Iteration 710: Train loss: 0.3856, Validation loss: 0.4941\n",
      "Iteration 720: Train loss: 0.4709, Validation loss: 0.4638\n",
      "Iteration 730: Train loss: 0.3978, Validation loss: 0.4711\n",
      "Iteration 740: Train loss: 0.5121, Validation loss: 0.5028\n",
      "Iteration 750: Train loss: 0.5424, Validation loss: 0.4438\n",
      "Iteration 760: Train loss: 0.4960, Validation loss: 0.5522\n",
      "Iteration 770: Train loss: 0.4429, Validation loss: 0.5181\n",
      "Iteration 780: Train loss: 0.4751, Validation loss: 0.5284\n",
      "Iteration 790: Train loss: 0.3742, Validation loss: 0.4555\n",
      "Iteration 800: Train loss: 0.4617, Validation loss: 0.4738\n",
      "Iteration 810: Train loss: 0.5320, Validation loss: 0.4705\n",
      "Iteration 820: Train loss: 0.6033, Validation loss: 0.4457\n",
      "Iteration 830: Train loss: 0.4624, Validation loss: 0.4467\n",
      "Iteration 840: Train loss: 0.5105, Validation loss: 0.4635\n",
      "Iteration 850: Train loss: 0.5391, Validation loss: 0.4066\n",
      "Iteration 860: Train loss: 0.4346, Validation loss: 0.4880\n",
      "Iteration 870: Train loss: 0.4869, Validation loss: 0.4322\n",
      "Iteration 880: Train loss: 0.4671, Validation loss: 0.4933\n",
      "Iteration 890: Train loss: 0.4951, Validation loss: 0.5236\n",
      "Iteration 900: Train loss: 0.4016, Validation loss: 0.5197\n",
      "Iteration 910: Train loss: 0.4533, Validation loss: 0.4282\n",
      "Iteration 920: Train loss: 0.4604, Validation loss: 0.4165\n",
      "Iteration 930: Train loss: 0.4734, Validation loss: 0.5039\n",
      "Iteration 940: Train loss: 0.4479, Validation loss: 0.4627\n",
      "Iteration 950: Train loss: 0.4435, Validation loss: 0.4250\n",
      "Iteration 960: Train loss: 0.4379, Validation loss: 0.4654\n",
      "Iteration 970: Train loss: 0.3859, Validation loss: 0.4108\n",
      "Iteration 980: Train loss: 0.4725, Validation loss: 0.4925\n",
      "Iteration 990: Train loss: 0.4403, Validation loss: 0.4432\n"
     ]
    }
   ],
   "source": [
    "# model = LogisticRegression(p, len(classes))\n",
    "model = MLP(p, int(np.sqrt(p)), len(classes))\n",
    "iterations = 1000\n",
    "batch_size = 128\n",
    "learning_rate = 0.1\n",
    "loss_function = torch.nn.CrossEntropyLoss()\n",
    "optimizer = torch.optim.SGD(model.parameters(), lr=learning_rate, weight_decay=0.01)\n",
    "\n",
    "X_train_tensor = torch.FloatTensor(X[train_indices])\n",
    "y_train_tensor = torch.LongTensor(y[train_indices].argmax(axis=1))\n",
    "train_losses, val_losses = [], []\n",
    "\n",
    "for i in range(iterations):\n",
    "    # Sample a random batch\n",
    "    indices = torch.randperm(len(X_train_tensor))[:batch_size]\n",
    "    X_batch = X_train_tensor[indices]\n",
    "    y_batch = y_train_tensor[indices]\n",
    "    \n",
    "    # Forward model on batch\n",
    "    preds = model(X_batch)\n",
    "\n",
    "    # Calculate loss\n",
    "    loss = loss_function(preds, y_batch)\n",
    "\n",
    "    # Backpropagate\n",
    "    optimizer.zero_grad()\n",
    "    loss.backward()\n",
    "\n",
    "    # Take step\n",
    "    optimizer.step()\n",
    "    train_losses.append(loss.item())\n",
    "    \n",
    "    # Create a validation set (using a different random subset)\n",
    "    val_indices = torch.randperm(len(X_train_tensor))[:batch_size*2]\n",
    "    X_val = X_train_tensor[val_indices]\n",
    "    y_val = y_train_tensor[val_indices]\n",
    "    \n",
    "    with torch.no_grad():\n",
    "        val_preds = model(X_val)\n",
    "        val_loss = loss_function(val_preds, y_val).item()\n",
    "        val_losses.append(val_loss)\n",
    "\n",
    "    if i % 10 == 0:\n",
    "        print(f\"Iteration {i}: Train loss: {loss.item():.4f}, Validation loss: {val_loss:.4f}\")"
   ]
  },
  {
   "cell_type": "code",
   "execution_count": 135,
   "id": "82799a54",
   "metadata": {},
   "outputs": [
    {
     "data": {
      "text/plain": [
       "<matplotlib.legend.Legend at 0x30f3a3320>"
      ]
     },
     "execution_count": 135,
     "metadata": {},
     "output_type": "execute_result"
    },
    {
     "data": {
      "image/png": "[encoded data removed]",
      "text/plain": [
       "<Figure size 640x480 with 1 Axes>"
      ]
     },
     "metadata": {},
     "output_type": "display_data"
    }
   ],
   "source": [
    "fig, ax = plt.subplots()\n",
    "ax.plot(train_losses, color='blue', label='train')\n",
    "ax.plot(val_losses, color='red', label='val')\n",
    "ax.legend()"
   ]
  },
  {
   "cell_type": "code",
   "execution_count": 136,
   "id": "e1169642",
   "metadata": {},
   "outputs": [
    {
     "data": {
      "text/plain": [
       "0.49405771493911743"
      ]
     },
     "execution_count": 136,
     "metadata": {},
     "output_type": "execute_result"
    }
   ],
   "source": [
    "X_test = torch.FloatTensor(X[test_indices])\n",
    "y_test = torch.LongTensor(y[test_indices])\n",
    "\n",
    "with torch.no_grad():\n",
    "    y_pred = model(X_test)\n",
    "    \n",
    "\n",
    "_, predicted = torch.max(y_pred, dim=1)\n",
    "_, true_labels = torch.max(y_test, dim=1)\n",
    "accuracy = (predicted == true_labels).float().mean().item()\n",
    "accuracy"
   ]
  }
 ],
 "metadata": {
  "kernelspec": {
   "display_name": "env",
   "language": "python",
   "name": "python3"
  },
  "language_info": {
   "codemirror_mode": {
    "name": "ipython",
    "version": 3
   },
   "file_extension": ".py",
   "mimetype": "text/x-python",
   "name": "python",
   "nbconvert_exporter": "python",
   "pygments_lexer": "ipython3",
   "version": "3.12.7"
  }
 },
 "nbformat": 4,
 "nbformat_minor": 5
}
