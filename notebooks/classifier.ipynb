{
 "cells": [
  {
   "cell_type": "code",
   "execution_count": 1,
   "id": "646b04e8",
   "metadata": {},
   "outputs": [],
   "source": [
    "import pandas as pd\n",
    "import matplotlib.pyplot as plt\n",
    "%matplotlib inline\n",
    "\n",
    "import random\n",
    "random.seed(42)\n",
    "\n",
    "from nltk.corpus import stopwords\n",
    "import nltk\n",
    "import numpy as np\n",
    "import re"
   ]
  },
  {
   "cell_type": "code",
   "execution_count": 2,
   "id": "7ddbcdf3",
   "metadata": {},
   "outputs": [
    {
     "name": "stdout",
     "output_type": "stream",
     "text": [
      "4999\n"
     ]
    },
    {
     "data": {
      "text/html": [
       "<div>\n",
       "<style scoped>\n",
       "    .dataframe tbody tr th:only-of-type {\n",
       "        vertical-align: middle;\n",
       "    }\n",
       "\n",
       "    .dataframe tbody tr th {\n",
       "        vertical-align: top;\n",
       "    }\n",
       "\n",
       "    .dataframe thead th {\n",
       "        text-align: right;\n",
       "    }\n",
       "</style>\n",
       "<table border=\"1\" class=\"dataframe\">\n",
       "  <thead>\n",
       "    <tr style=\"text-align: right;\">\n",
       "      <th></th>\n",
       "      <th>Unnamed: 0</th>\n",
       "      <th>description</th>\n",
       "      <th>medical_specialty</th>\n",
       "      <th>sample_name</th>\n",
       "      <th>transcription</th>\n",
       "      <th>keywords</th>\n",
       "    </tr>\n",
       "  </thead>\n",
       "  <tbody>\n",
       "    <tr>\n",
       "      <th>0</th>\n",
       "      <td>0</td>\n",
       "      <td>A 23-year-old white female presents with comp...</td>\n",
       "      <td>Allergy / Immunology</td>\n",
       "      <td>Allergic Rhinitis</td>\n",
       "      <td>SUBJECTIVE:,  This 23-year-old white female pr...</td>\n",
       "      <td>allergy / immunology, allergic rhinitis, aller...</td>\n",
       "    </tr>\n",
       "    <tr>\n",
       "      <th>1</th>\n",
       "      <td>1</td>\n",
       "      <td>Consult for laparoscopic gastric bypass.</td>\n",
       "      <td>Bariatrics</td>\n",
       "      <td>Laparoscopic Gastric Bypass Consult - 2</td>\n",
       "      <td>PAST MEDICAL HISTORY:, He has difficulty climb...</td>\n",
       "      <td>bariatrics, laparoscopic gastric bypass, weigh...</td>\n",
       "    </tr>\n",
       "    <tr>\n",
       "      <th>2</th>\n",
       "      <td>2</td>\n",
       "      <td>Consult for laparoscopic gastric bypass.</td>\n",
       "      <td>Bariatrics</td>\n",
       "      <td>Laparoscopic Gastric Bypass Consult - 1</td>\n",
       "      <td>HISTORY OF PRESENT ILLNESS: , I have seen ABC ...</td>\n",
       "      <td>bariatrics, laparoscopic gastric bypass, heart...</td>\n",
       "    </tr>\n",
       "    <tr>\n",
       "      <th>3</th>\n",
       "      <td>3</td>\n",
       "      <td>2-D M-Mode. Doppler.</td>\n",
       "      <td>Cardiovascular / Pulmonary</td>\n",
       "      <td>2-D Echocardiogram - 1</td>\n",
       "      <td>2-D M-MODE: , ,1.  Left atrial enlargement wit...</td>\n",
       "      <td>cardiovascular / pulmonary, 2-d m-mode, dopple...</td>\n",
       "    </tr>\n",
       "    <tr>\n",
       "      <th>4</th>\n",
       "      <td>4</td>\n",
       "      <td>2-D Echocardiogram</td>\n",
       "      <td>Cardiovascular / Pulmonary</td>\n",
       "      <td>2-D Echocardiogram - 2</td>\n",
       "      <td>1.  The left ventricular cavity size and wall ...</td>\n",
       "      <td>cardiovascular / pulmonary, 2-d, doppler, echo...</td>\n",
       "    </tr>\n",
       "  </tbody>\n",
       "</table>\n",
       "</div>"
      ],
      "text/plain": [
       "   Unnamed: 0                                        description  \\\n",
       "0           0   A 23-year-old white female presents with comp...   \n",
       "1           1           Consult for laparoscopic gastric bypass.   \n",
       "2           2           Consult for laparoscopic gastric bypass.   \n",
       "3           3                             2-D M-Mode. Doppler.     \n",
       "4           4                                 2-D Echocardiogram   \n",
       "\n",
       "             medical_specialty                                sample_name  \\\n",
       "0         Allergy / Immunology                         Allergic Rhinitis    \n",
       "1                   Bariatrics   Laparoscopic Gastric Bypass Consult - 2    \n",
       "2                   Bariatrics   Laparoscopic Gastric Bypass Consult - 1    \n",
       "3   Cardiovascular / Pulmonary                    2-D Echocardiogram - 1    \n",
       "4   Cardiovascular / Pulmonary                    2-D Echocardiogram - 2    \n",
       "\n",
       "                                       transcription  \\\n",
       "0  SUBJECTIVE:,  This 23-year-old white female pr...   \n",
       "1  PAST MEDICAL HISTORY:, He has difficulty climb...   \n",
       "2  HISTORY OF PRESENT ILLNESS: , I have seen ABC ...   \n",
       "3  2-D M-MODE: , ,1.  Left atrial enlargement wit...   \n",
       "4  1.  The left ventricular cavity size and wall ...   \n",
       "\n",
       "                                            keywords  \n",
       "0  allergy / immunology, allergic rhinitis, aller...  \n",
       "1  bariatrics, laparoscopic gastric bypass, weigh...  \n",
       "2  bariatrics, laparoscopic gastric bypass, heart...  \n",
       "3  cardiovascular / pulmonary, 2-d m-mode, dopple...  \n",
       "4  cardiovascular / pulmonary, 2-d, doppler, echo...  "
      ]
     },
     "execution_count": 2,
     "metadata": {},
     "output_type": "execute_result"
    }
   ],
   "source": [
    "df = pd.read_csv(\"../data/mtsamples.csv\")\n",
    "print(len(df))\n",
    "df.head()"
   ]
  },
  {
   "cell_type": "markdown",
   "id": "86274365",
   "metadata": {},
   "source": [
    "Because of the long tail, going to focus on top specialties only, say with >100 samples. Note there is a kind of inconsistent semantics here with visit types mixed in, we'll take a look at that in error analysis."
   ]
  },
  {
   "cell_type": "code",
   "execution_count": 3,
   "id": "e0ee3c2f",
   "metadata": {},
   "outputs": [
    {
     "data": {
      "text/plain": [
       "medical_specialty\n",
       "Surgery                          1103\n",
       "Consult - History and Phy.        516\n",
       "Cardiovascular / Pulmonary        372\n",
       "Orthopedic                        355\n",
       "Radiology                         273\n",
       "General Medicine                  259\n",
       "Gastroenterology                  230\n",
       "Neurology                         223\n",
       "SOAP / Chart / Progress Notes     166\n",
       "Obstetrics / Gynecology           160\n",
       "Urology                           158\n",
       "Discharge Summary                 108\n",
       "Name: count, dtype: int64"
      ]
     },
     "execution_count": 3,
     "metadata": {},
     "output_type": "execute_result"
    }
   ],
   "source": [
    "top_specialties = df.medical_specialty.value_counts()\n",
    "top_specialties = top_specialties[top_specialties > 100]\n",
    "top_specialties\n",
    "\n"
   ]
  },
  {
   "cell_type": "code",
   "execution_count": 6,
   "id": "1d7006c1",
   "metadata": {},
   "outputs": [
    {
     "name": "stdout",
     "output_type": "stream",
     "text": [
      "Went from 3923 samples to 3923 samples\n"
     ]
    },
    {
     "data": {
      "text/html": [
       "<div>\n",
       "<style scoped>\n",
       "    .dataframe tbody tr th:only-of-type {\n",
       "        vertical-align: middle;\n",
       "    }\n",
       "\n",
       "    .dataframe tbody tr th {\n",
       "        vertical-align: top;\n",
       "    }\n",
       "\n",
       "    .dataframe thead th {\n",
       "        text-align: right;\n",
       "    }\n",
       "</style>\n",
       "<table border=\"1\" class=\"dataframe\">\n",
       "  <thead>\n",
       "    <tr style=\"text-align: right;\">\n",
       "      <th></th>\n",
       "      <th>Unnamed: 0</th>\n",
       "      <th>description</th>\n",
       "      <th>medical_specialty</th>\n",
       "      <th>sample_name</th>\n",
       "      <th>transcription</th>\n",
       "      <th>keywords</th>\n",
       "      <th>target</th>\n",
       "    </tr>\n",
       "  </thead>\n",
       "  <tbody>\n",
       "    <tr>\n",
       "      <th>3</th>\n",
       "      <td>3</td>\n",
       "      <td>2-D M-Mode. Doppler.</td>\n",
       "      <td>Cardiovascular / Pulmonary</td>\n",
       "      <td>2-D Echocardiogram - 1</td>\n",
       "      <td>2-D M-MODE: , ,1.  Left atrial enlargement wit...</td>\n",
       "      <td>cardiovascular / pulmonary, 2-d m-mode, dopple...</td>\n",
       "      <td>[0, 0, 1, 0, 0, 0, 0, 0, 0, 0, 0, 0]</td>\n",
       "    </tr>\n",
       "    <tr>\n",
       "      <th>4</th>\n",
       "      <td>4</td>\n",
       "      <td>2-D Echocardiogram</td>\n",
       "      <td>Cardiovascular / Pulmonary</td>\n",
       "      <td>2-D Echocardiogram - 2</td>\n",
       "      <td>1.  The left ventricular cavity size and wall ...</td>\n",
       "      <td>cardiovascular / pulmonary, 2-d, doppler, echo...</td>\n",
       "      <td>[0, 0, 1, 0, 0, 0, 0, 0, 0, 0, 0, 0]</td>\n",
       "    </tr>\n",
       "    <tr>\n",
       "      <th>7</th>\n",
       "      <td>7</td>\n",
       "      <td>2-D Echocardiogram</td>\n",
       "      <td>Cardiovascular / Pulmonary</td>\n",
       "      <td>2-D Echocardiogram - 3</td>\n",
       "      <td>2-D ECHOCARDIOGRAM,Multiple views of the heart...</td>\n",
       "      <td>cardiovascular / pulmonary, 2-d echocardiogram...</td>\n",
       "      <td>[0, 0, 1, 0, 0, 0, 0, 0, 0, 0, 0, 0]</td>\n",
       "    </tr>\n",
       "    <tr>\n",
       "      <th>9</th>\n",
       "      <td>9</td>\n",
       "      <td>Echocardiogram and Doppler</td>\n",
       "      <td>Cardiovascular / Pulmonary</td>\n",
       "      <td>2-D Echocardiogram - 4</td>\n",
       "      <td>DESCRIPTION:,1.  Normal cardiac chambers size....</td>\n",
       "      <td>cardiovascular / pulmonary, ejection fraction,...</td>\n",
       "      <td>[0, 0, 1, 0, 0, 0, 0, 0, 0, 0, 0, 0]</td>\n",
       "    </tr>\n",
       "    <tr>\n",
       "      <th>11</th>\n",
       "      <td>11</td>\n",
       "      <td>Normal left ventricle, moderate biatrial enla...</td>\n",
       "      <td>Cardiovascular / Pulmonary</td>\n",
       "      <td>2-D Doppler</td>\n",
       "      <td>2-D STUDY,1. Mild aortic stenosis, widely calc...</td>\n",
       "      <td>cardiovascular / pulmonary, 2-d study, doppler...</td>\n",
       "      <td>[0, 0, 1, 0, 0, 0, 0, 0, 0, 0, 0, 0]</td>\n",
       "    </tr>\n",
       "  </tbody>\n",
       "</table>\n",
       "</div>"
      ],
      "text/plain": [
       "    Unnamed: 0                                        description  \\\n",
       "3            3                             2-D M-Mode. Doppler.     \n",
       "4            4                                 2-D Echocardiogram   \n",
       "7            7                                 2-D Echocardiogram   \n",
       "9            9                         Echocardiogram and Doppler   \n",
       "11          11   Normal left ventricle, moderate biatrial enla...   \n",
       "\n",
       "              medical_specialty               sample_name  \\\n",
       "3    Cardiovascular / Pulmonary   2-D Echocardiogram - 1    \n",
       "4    Cardiovascular / Pulmonary   2-D Echocardiogram - 2    \n",
       "7    Cardiovascular / Pulmonary   2-D Echocardiogram - 3    \n",
       "9    Cardiovascular / Pulmonary   2-D Echocardiogram - 4    \n",
       "11   Cardiovascular / Pulmonary              2-D Doppler    \n",
       "\n",
       "                                        transcription  \\\n",
       "3   2-D M-MODE: , ,1.  Left atrial enlargement wit...   \n",
       "4   1.  The left ventricular cavity size and wall ...   \n",
       "7   2-D ECHOCARDIOGRAM,Multiple views of the heart...   \n",
       "9   DESCRIPTION:,1.  Normal cardiac chambers size....   \n",
       "11  2-D STUDY,1. Mild aortic stenosis, widely calc...   \n",
       "\n",
       "                                             keywords  \\\n",
       "3   cardiovascular / pulmonary, 2-d m-mode, dopple...   \n",
       "4   cardiovascular / pulmonary, 2-d, doppler, echo...   \n",
       "7   cardiovascular / pulmonary, 2-d echocardiogram...   \n",
       "9   cardiovascular / pulmonary, ejection fraction,...   \n",
       "11  cardiovascular / pulmonary, 2-d study, doppler...   \n",
       "\n",
       "                                  target  \n",
       "3   [0, 0, 1, 0, 0, 0, 0, 0, 0, 0, 0, 0]  \n",
       "4   [0, 0, 1, 0, 0, 0, 0, 0, 0, 0, 0, 0]  \n",
       "7   [0, 0, 1, 0, 0, 0, 0, 0, 0, 0, 0, 0]  \n",
       "9   [0, 0, 1, 0, 0, 0, 0, 0, 0, 0, 0, 0]  \n",
       "11  [0, 0, 1, 0, 0, 0, 0, 0, 0, 0, 0, 0]  "
      ]
     },
     "execution_count": 6,
     "metadata": {},
     "output_type": "execute_result"
    }
   ],
   "source": [
    "classes = list(top_specialties.keys())\n",
    "prev_count = len(df)\n",
    "df = df.loc[df.medical_specialty.isin(classes)]\n",
    "print(f\"Went from {prev_count} samples to {len(df)} samples\")\n",
    "\n",
    "class_dict = {c:i for i, c in enumerate(classes)}\n",
    "\n",
    "def one_hot_encode(specialty):\n",
    "    y = np.zeros(len(classes), dtype=int)\n",
    "    y[class_dict[specialty]] = 1\n",
    "    return y\n",
    "\n",
    "df[\"target\"] = df.medical_specialty.apply(one_hot_encode)\n",
    "df.head()"
   ]
  },
  {
   "cell_type": "code",
   "execution_count": 27,
   "id": "83cb97a1",
   "metadata": {},
   "outputs": [
    {
     "data": {
      "text/plain": [
       "(3334, 589)"
      ]
     },
     "execution_count": 27,
     "metadata": {},
     "output_type": "execute_result"
    }
   ],
   "source": [
    "# train-val-test\n",
    "# df[\"split\"] = random.choices(\n",
    "#     [\"train\", \"val\", \"test\"],\n",
    "#     weights=[0.7, 0.15, 0.15],\n",
    "#     k=len(df)\n",
    "# )\n",
    "\n",
    "# Create indices for train-test split\n",
    "indices = np.arange(len(df))\n",
    "np.random.shuffle(indices)  # Shuffle the indices\n",
    "\n",
    "# Calculate split point (85% train, 15% test)\n",
    "split_idx = int(0.85 * len(indices))\n",
    "train_indices = indices[:split_idx]\n",
    "test_indices = indices[split_idx:]\n",
    "\n",
    "len(train_indices), len(test_indices)\n"
   ]
  },
  {
   "cell_type": "markdown",
   "id": "5646c43a",
   "metadata": {},
   "source": [
    "# Pre-processing\n",
    "- lower case\n",
    "- remove punctuation and symbols\n",
    "- remove stopwords\n",
    "\n",
    "# Featurization\n",
    "- BoW\n",
    "- TF-IDF\n",
    "- Embedding layer\n",
    "- Pre-trained embedding"
   ]
  },
  {
   "cell_type": "code",
   "execution_count": 8,
   "id": "6b131b5e",
   "metadata": {},
   "outputs": [
    {
     "name": "stdout",
     "output_type": "stream",
     "text": [
      "Original vs Processed example:\n",
      "Original: 2-D M-MODE: , ,1.  Left atrial enlargement with left atrial diameter of 4.7 cm.,2.  Normal size righ ...\n",
      "Processed: 2d mmode 1 left atrial enlargement left atrial diameter 47 cm2 normal size right left ventricle3 nor ...\n"
     ]
    },
    {
     "data": {
      "text/html": [
       "<div>\n",
       "<style scoped>\n",
       "    .dataframe tbody tr th:only-of-type {\n",
       "        vertical-align: middle;\n",
       "    }\n",
       "\n",
       "    .dataframe tbody tr th {\n",
       "        vertical-align: top;\n",
       "    }\n",
       "\n",
       "    .dataframe thead th {\n",
       "        text-align: right;\n",
       "    }\n",
       "</style>\n",
       "<table border=\"1\" class=\"dataframe\">\n",
       "  <thead>\n",
       "    <tr style=\"text-align: right;\">\n",
       "      <th></th>\n",
       "      <th>Unnamed: 0</th>\n",
       "      <th>description</th>\n",
       "      <th>medical_specialty</th>\n",
       "      <th>sample_name</th>\n",
       "      <th>transcription</th>\n",
       "      <th>keywords</th>\n",
       "      <th>target</th>\n",
       "      <th>split</th>\n",
       "      <th>processed_transcription</th>\n",
       "    </tr>\n",
       "  </thead>\n",
       "  <tbody>\n",
       "    <tr>\n",
       "      <th>3</th>\n",
       "      <td>3</td>\n",
       "      <td>2-D M-Mode. Doppler.</td>\n",
       "      <td>Cardiovascular / Pulmonary</td>\n",
       "      <td>2-D Echocardiogram - 1</td>\n",
       "      <td>2-D M-MODE: , ,1.  Left atrial enlargement wit...</td>\n",
       "      <td>cardiovascular / pulmonary, 2-d m-mode, dopple...</td>\n",
       "      <td>[0, 0, 1, 0, 0, 0, 0, 0, 0, 0, 0, 0]</td>\n",
       "      <td>train</td>\n",
       "      <td>2d mmode 1 left atrial enlargement left atrial...</td>\n",
       "    </tr>\n",
       "    <tr>\n",
       "      <th>4</th>\n",
       "      <td>4</td>\n",
       "      <td>2-D Echocardiogram</td>\n",
       "      <td>Cardiovascular / Pulmonary</td>\n",
       "      <td>2-D Echocardiogram - 2</td>\n",
       "      <td>1.  The left ventricular cavity size and wall ...</td>\n",
       "      <td>cardiovascular / pulmonary, 2-d, doppler, echo...</td>\n",
       "      <td>[0, 0, 1, 0, 0, 0, 0, 0, 0, 0, 0, 0]</td>\n",
       "      <td>train</td>\n",
       "      <td>1 left ventricular cavity size wall thickness ...</td>\n",
       "    </tr>\n",
       "    <tr>\n",
       "      <th>7</th>\n",
       "      <td>7</td>\n",
       "      <td>2-D Echocardiogram</td>\n",
       "      <td>Cardiovascular / Pulmonary</td>\n",
       "      <td>2-D Echocardiogram - 3</td>\n",
       "      <td>2-D ECHOCARDIOGRAM,Multiple views of the heart...</td>\n",
       "      <td>cardiovascular / pulmonary, 2-d echocardiogram...</td>\n",
       "      <td>[0, 0, 1, 0, 0, 0, 0, 0, 0, 0, 0, 0]</td>\n",
       "      <td>train</td>\n",
       "      <td>2d echocardiogrammultiple views heart great ve...</td>\n",
       "    </tr>\n",
       "    <tr>\n",
       "      <th>9</th>\n",
       "      <td>9</td>\n",
       "      <td>Echocardiogram and Doppler</td>\n",
       "      <td>Cardiovascular / Pulmonary</td>\n",
       "      <td>2-D Echocardiogram - 4</td>\n",
       "      <td>DESCRIPTION:,1.  Normal cardiac chambers size....</td>\n",
       "      <td>cardiovascular / pulmonary, ejection fraction,...</td>\n",
       "      <td>[0, 0, 1, 0, 0, 0, 0, 0, 0, 0, 0, 0]</td>\n",
       "      <td>train</td>\n",
       "      <td>description1 normal cardiac chambers size2 nor...</td>\n",
       "    </tr>\n",
       "    <tr>\n",
       "      <th>11</th>\n",
       "      <td>11</td>\n",
       "      <td>Normal left ventricle, moderate biatrial enla...</td>\n",
       "      <td>Cardiovascular / Pulmonary</td>\n",
       "      <td>2-D Doppler</td>\n",
       "      <td>2-D STUDY,1. Mild aortic stenosis, widely calc...</td>\n",
       "      <td>cardiovascular / pulmonary, 2-d study, doppler...</td>\n",
       "      <td>[0, 0, 1, 0, 0, 0, 0, 0, 0, 0, 0, 0]</td>\n",
       "      <td>train</td>\n",
       "      <td>2d study1 mild aortic stenosis widely calcifie...</td>\n",
       "    </tr>\n",
       "  </tbody>\n",
       "</table>\n",
       "</div>"
      ],
      "text/plain": [
       "    Unnamed: 0                                        description  \\\n",
       "3            3                             2-D M-Mode. Doppler.     \n",
       "4            4                                 2-D Echocardiogram   \n",
       "7            7                                 2-D Echocardiogram   \n",
       "9            9                         Echocardiogram and Doppler   \n",
       "11          11   Normal left ventricle, moderate biatrial enla...   \n",
       "\n",
       "              medical_specialty               sample_name  \\\n",
       "3    Cardiovascular / Pulmonary   2-D Echocardiogram - 1    \n",
       "4    Cardiovascular / Pulmonary   2-D Echocardiogram - 2    \n",
       "7    Cardiovascular / Pulmonary   2-D Echocardiogram - 3    \n",
       "9    Cardiovascular / Pulmonary   2-D Echocardiogram - 4    \n",
       "11   Cardiovascular / Pulmonary              2-D Doppler    \n",
       "\n",
       "                                        transcription  \\\n",
       "3   2-D M-MODE: , ,1.  Left atrial enlargement wit...   \n",
       "4   1.  The left ventricular cavity size and wall ...   \n",
       "7   2-D ECHOCARDIOGRAM,Multiple views of the heart...   \n",
       "9   DESCRIPTION:,1.  Normal cardiac chambers size....   \n",
       "11  2-D STUDY,1. Mild aortic stenosis, widely calc...   \n",
       "\n",
       "                                             keywords  \\\n",
       "3   cardiovascular / pulmonary, 2-d m-mode, dopple...   \n",
       "4   cardiovascular / pulmonary, 2-d, doppler, echo...   \n",
       "7   cardiovascular / pulmonary, 2-d echocardiogram...   \n",
       "9   cardiovascular / pulmonary, ejection fraction,...   \n",
       "11  cardiovascular / pulmonary, 2-d study, doppler...   \n",
       "\n",
       "                                  target  split  \\\n",
       "3   [0, 0, 1, 0, 0, 0, 0, 0, 0, 0, 0, 0]  train   \n",
       "4   [0, 0, 1, 0, 0, 0, 0, 0, 0, 0, 0, 0]  train   \n",
       "7   [0, 0, 1, 0, 0, 0, 0, 0, 0, 0, 0, 0]  train   \n",
       "9   [0, 0, 1, 0, 0, 0, 0, 0, 0, 0, 0, 0]  train   \n",
       "11  [0, 0, 1, 0, 0, 0, 0, 0, 0, 0, 0, 0]  train   \n",
       "\n",
       "                              processed_transcription  \n",
       "3   2d mmode 1 left atrial enlargement left atrial...  \n",
       "4   1 left ventricular cavity size wall thickness ...  \n",
       "7   2d echocardiogrammultiple views heart great ve...  \n",
       "9   description1 normal cardiac chambers size2 nor...  \n",
       "11  2d study1 mild aortic stenosis widely calcifie...  "
      ]
     },
     "execution_count": 8,
     "metadata": {},
     "output_type": "execute_result"
    }
   ],
   "source": [
    "def preprocess_text(text):\n",
    "    text = str(text).lower()\n",
    "    text = re.sub(r'[^\\w\\s]', '', text)\n",
    "    \n",
    "    # Make sure stopwords are downloaded\n",
    "    try:\n",
    "        nltk.data.find('corpora/stopwords')\n",
    "    except LookupError:\n",
    "        nltk.download('stopwords')\n",
    "    \n",
    "    stop_words = set(stopwords.words('english'))\n",
    "    text = ' '.join([word for word in text.split() if word not in stop_words])\n",
    "    \n",
    "    return text\n",
    "\n",
    "df['processed_transcription'] = df['transcription'].apply(preprocess_text)\n",
    "\n",
    "# Display a sample to verify the preprocessing\n",
    "print(\"Original vs Processed example:\")\n",
    "sample_idx = 0\n",
    "print(\"Original:\", df['transcription'].iloc[sample_idx][:100], \"...\")\n",
    "print(\"Processed:\", df['processed_transcription'].iloc[sample_idx][:100], \"...\")\n",
    "df.head()"
   ]
  },
  {
   "cell_type": "code",
   "execution_count": 9,
   "id": "290fed9e",
   "metadata": {},
   "outputs": [
    {
     "data": {
      "text/plain": [
       "42891"
      ]
     },
     "execution_count": 9,
     "metadata": {},
     "output_type": "execute_result"
    }
   ],
   "source": [
    "vocab = {}\n",
    "for _, row in df.iterrows():\n",
    "    x = row[\"processed_transcription\"]\n",
    "    for word in x.split():\n",
    "        vocab[word] = vocab.get(word, 0) + 1\n",
    "len(vocab)"
   ]
  },
  {
   "cell_type": "code",
   "execution_count": 10,
   "id": "b2b56fdb",
   "metadata": {},
   "outputs": [
    {
     "data": {
      "image/png": "[encoded data removed]",
      "text/plain": [
       "<Figure size 1200x600 with 1 Axes>"
      ]
     },
     "metadata": {},
     "output_type": "display_data"
    },
    {
     "data": {
      "image/png": "[encoded data removed]",
      "text/plain": [
       "<Figure size 1200x600 with 1 Axes>"
      ]
     },
     "metadata": {},
     "output_type": "display_data"
    },
    {
     "data": {
      "text/plain": [
       "patient      16819\n",
       "right         8995\n",
       "left          8852\n",
       "history       6085\n",
       "placed        5646\n",
       "normal        5376\n",
       "well          4571\n",
       "procedure     4022\n",
       "pain          4006\n",
       "also          3273\n",
       "using         3268\n",
       "mg            3133\n",
       "blood         3041\n",
       "time          3038\n",
       "noted         3029\n",
       "performed     2883\n",
       "without       2881\n",
       "incision      2846\n",
       "removed       2826\n",
       "used          2748\n",
       "dtype: int64"
      ]
     },
     "execution_count": 10,
     "metadata": {},
     "output_type": "execute_result"
    }
   ],
   "source": [
    "# Convert vocab to a pandas Series for easier manipulation\n",
    "word_counts = pd.Series(vocab)\n",
    "\n",
    "# Sort by frequency (descending)\n",
    "word_counts = word_counts.sort_values(ascending=False)\n",
    "\n",
    "# Plot the distribution of the top 50 words\n",
    "plt.figure(figsize=(12, 6))\n",
    "word_counts.head(50).plot(kind='bar')\n",
    "plt.title('Top 50 Words by Frequency')\n",
    "plt.xlabel('Words')\n",
    "plt.ylabel('Frequency')\n",
    "plt.xticks(rotation=90)\n",
    "plt.tight_layout()\n",
    "plt.show()\n",
    "\n",
    "# Plot the overall distribution\n",
    "plt.figure(figsize=(12, 6))\n",
    "plt.plot(range(len(word_counts)), word_counts.values)\n",
    "plt.title('Word Frequency Distribution')\n",
    "plt.xlabel('Word Rank')\n",
    "plt.ylabel('Frequency')\n",
    "plt.xscale('log')\n",
    "plt.yscale('log')\n",
    "plt.grid(True, alpha=0.3)\n",
    "plt.tight_layout()\n",
    "plt.show()\n",
    "\n",
    "# Display the top 20 words\n",
    "word_counts.head(20)"
   ]
  },
  {
   "cell_type": "code",
   "execution_count": 17,
   "id": "e0fb6b52",
   "metadata": {},
   "outputs": [
    {
     "data": {
      "text/plain": [
       "8288"
      ]
     },
     "execution_count": 17,
     "metadata": {},
     "output_type": "execute_result"
    }
   ],
   "source": [
    "k = 10  \n",
    "vocab_filtered = [word for word in vocab if vocab[word] > k]  # same order of magnitude as n\n",
    "p = len(vocab_filtered)\n",
    "p"
   ]
  },
  {
   "cell_type": "code",
   "execution_count": 23,
   "id": "c648ffd4",
   "metadata": {},
   "outputs": [
    {
     "data": {
      "text/plain": [
       "(array([[0., 0., 0., ..., 0., 0., 0.],\n",
       "        [0., 0., 0., ..., 0., 0., 0.],\n",
       "        [0., 0., 0., ..., 0., 0., 0.],\n",
       "        ...,\n",
       "        [0., 0., 0., ..., 0., 0., 0.],\n",
       "        [0., 1., 1., ..., 0., 0., 0.],\n",
       "        [0., 3., 1., ..., 0., 0., 0.]], shape=(3923, 8288)),\n",
       " array([[0., 0., 0., ..., 0., 0., 0.],\n",
       "        [0., 0., 0., ..., 0., 0., 0.],\n",
       "        [0., 0., 0., ..., 0., 0., 0.],\n",
       "        ...,\n",
       "        [0., 0., 0., ..., 0., 0., 1.],\n",
       "        [0., 0., 0., ..., 0., 0., 1.],\n",
       "        [0., 0., 0., ..., 0., 0., 1.]], shape=(3923, 12)))"
      ]
     },
     "execution_count": 23,
     "metadata": {},
     "output_type": "execute_result"
    }
   ],
   "source": [
    "n = len(df)\n",
    "\n",
    "X = np.zeros((n,p))\n",
    "y = np.zeros((n,len(classes)))\n",
    "\n",
    "from collections import Counter\n",
    "def get_word_counts(s):\n",
    "    freqs = Counter()\n",
    "    for word in s.split():\n",
    "        freqs[word] += 1\n",
    "    return freqs\n",
    "\n",
    "for i, row in df.iterrows():\n",
    "    doc = row.processed_transcription\n",
    "    freqs = get_word_counts(doc)\n",
    "    x_bow = np.zeros(p)\n",
    "    for j in range(p):\n",
    "        word = vocab_filtered[j]\n",
    "        x_bow[j] = freqs[word]\n",
    "    X[i:] = x_bow\n",
    "    y[i:] = row.target\n",
    "X, y\n",
    "\n",
    "# def get_bow_vector_binary(document):\n",
    "#     return [1 if word in document else 0 for word in vocab_filtered]\n",
    "\n",
    "# df[\"bow_binary\"] = df.processed_transcription.apply(get_bow_vector_binary)\n"
   ]
  },
  {
   "cell_type": "code",
   "execution_count": 19,
   "id": "98cf2219",
   "metadata": {},
   "outputs": [
    {
     "name": "stdout",
     "output_type": "stream",
     "text": [
      "Sparsity of X: 0.9806 (98.06%)\n",
      "Density of X: 0.0194 (1.94%)\n"
     ]
    }
   ],
   "source": [
    "# Calculate sparsity of X\n",
    "# Sparsity is the percentage of zero elements in the matrix\n",
    "sparsity = np.count_nonzero(X == 0) / X.size\n",
    "print(f\"Sparsity of X: {sparsity:.4f} ({sparsity*100:.2f}%)\")\n",
    "\n",
    "# Alternatively, we can calculate density (non-zero elements)\n",
    "density = 1 - sparsity\n",
    "print(f\"Density of X: {density:.4f} ({density*100:.2f}%)\")\n"
   ]
  },
  {
   "cell_type": "code",
   "execution_count": 29,
   "id": "dde2b58e",
   "metadata": {},
   "outputs": [
    {
     "data": {
      "text/plain": [
       "(array([[0., 0., 0., ..., 0., 0., 0.],\n",
       "        [0., 0., 0., ..., 0., 0., 0.],\n",
       "        [0., 0., 4., ..., 0., 0., 0.],\n",
       "        ...,\n",
       "        [0., 0., 1., ..., 0., 0., 0.],\n",
       "        [0., 1., 0., ..., 0., 0., 0.],\n",
       "        [0., 1., 1., ..., 0., 0., 0.]], shape=(3334, 8288)),\n",
       " array([[0., 0., 0., ..., 0., 0., 0.],\n",
       "        [0., 0., 0., ..., 0., 0., 1.],\n",
       "        [0., 0., 0., ..., 0., 1., 0.],\n",
       "        ...,\n",
       "        [1., 0., 0., ..., 0., 0., 0.],\n",
       "        [0., 0., 0., ..., 0., 0., 0.],\n",
       "        [0., 0., 0., ..., 0., 0., 0.]], shape=(3334, 12)))"
      ]
     },
     "execution_count": 29,
     "metadata": {},
     "output_type": "execute_result"
    }
   ],
   "source": [
    "X[train_indices], y[train_indices]"
   ]
  },
  {
   "cell_type": "code",
   "execution_count": 35,
   "id": "f0c51f05",
   "metadata": {},
   "outputs": [],
   "source": [
    "import torch\n",
    "from torch.nn import Linear\n",
    "\n",
    "class LogisticRegression(torch.nn.Module):\n",
    "    def __init__(self, p, num_classes):\n",
    "        super().__init__()\n",
    "        self.linear = Linear(p, num_classes)\n",
    "        self.softmax = torch.nn.Softmax(dim=1)\n",
    "    \n",
    "    def forward(self, x):\n",
    "        return self.softmax(self.linear(x))"
   ]
  },
  {
   "cell_type": "code",
   "execution_count": 107,
   "id": "8dda53ce",
   "metadata": {},
   "outputs": [
    {
     "name": "stdout",
     "output_type": "stream",
     "text": [
      "Iteration 0: Train loss: 2.4843, Validation loss: 2.4705\n",
      "Iteration 10: Train loss: 2.2252, Validation loss: 2.2295\n",
      "Iteration 20: Train loss: 2.1585, Validation loss: 2.1544\n",
      "Iteration 30: Train loss: 2.1257, Validation loss: 2.1062\n",
      "Iteration 40: Train loss: 2.0754, Validation loss: 2.1342\n",
      "Iteration 50: Train loss: 2.1042, Validation loss: 2.1145\n",
      "Iteration 60: Train loss: 2.0777, Validation loss: 2.0655\n",
      "Iteration 70: Train loss: 2.0509, Validation loss: 2.0893\n",
      "Iteration 80: Train loss: 2.0895, Validation loss: 2.0340\n",
      "Iteration 90: Train loss: 2.0651, Validation loss: 2.0340\n",
      "Iteration 100: Train loss: 2.0570, Validation loss: 2.0379\n",
      "Iteration 110: Train loss: 2.0053, Validation loss: 2.0099\n",
      "Iteration 120: Train loss: 1.9991, Validation loss: 2.0371\n",
      "Iteration 130: Train loss: 1.9591, Validation loss: 2.0232\n",
      "Iteration 140: Train loss: 1.9820, Validation loss: 2.0276\n",
      "Iteration 150: Train loss: 1.9914, Validation loss: 2.0199\n",
      "Iteration 160: Train loss: 2.0030, Validation loss: 2.0040\n",
      "Iteration 170: Train loss: 1.9907, Validation loss: 2.0160\n",
      "Iteration 180: Train loss: 2.0259, Validation loss: 2.0265\n",
      "Iteration 190: Train loss: 1.9904, Validation loss: 1.9929\n",
      "Iteration 200: Train loss: 1.9966, Validation loss: 1.9949\n",
      "Iteration 210: Train loss: 2.0121, Validation loss: 1.9758\n",
      "Iteration 220: Train loss: 1.9999, Validation loss: 1.9662\n",
      "Iteration 230: Train loss: 2.0056, Validation loss: 1.9647\n",
      "Iteration 240: Train loss: 1.9784, Validation loss: 1.9771\n",
      "Iteration 250: Train loss: 1.9858, Validation loss: 2.0012\n",
      "Iteration 260: Train loss: 1.9991, Validation loss: 1.9838\n",
      "Iteration 270: Train loss: 1.9665, Validation loss: 1.9759\n",
      "Iteration 280: Train loss: 1.9866, Validation loss: 1.9816\n",
      "Iteration 290: Train loss: 2.0254, Validation loss: 1.9662\n",
      "Iteration 300: Train loss: 1.9581, Validation loss: 1.9501\n",
      "Iteration 310: Train loss: 1.9560, Validation loss: 1.9645\n",
      "Iteration 320: Train loss: 1.9863, Validation loss: 1.9691\n",
      "Iteration 330: Train loss: 1.9406, Validation loss: 2.0189\n",
      "Iteration 340: Train loss: 1.9979, Validation loss: 1.9603\n",
      "Iteration 350: Train loss: 2.0064, Validation loss: 1.9591\n",
      "Iteration 360: Train loss: 1.9927, Validation loss: 1.9779\n",
      "Iteration 370: Train loss: 1.9739, Validation loss: 1.9861\n",
      "Iteration 380: Train loss: 1.9880, Validation loss: 1.9650\n",
      "Iteration 390: Train loss: 2.0066, Validation loss: 1.9977\n",
      "Iteration 400: Train loss: 1.9536, Validation loss: 1.9751\n",
      "Iteration 410: Train loss: 2.0059, Validation loss: 1.9867\n",
      "Iteration 420: Train loss: 1.9716, Validation loss: 1.9734\n",
      "Iteration 430: Train loss: 1.9476, Validation loss: 1.9447\n",
      "Iteration 440: Train loss: 1.9819, Validation loss: 1.9737\n",
      "Iteration 450: Train loss: 1.9504, Validation loss: 1.9619\n",
      "Iteration 460: Train loss: 1.9634, Validation loss: 1.9702\n",
      "Iteration 470: Train loss: 1.9608, Validation loss: 1.9259\n",
      "Iteration 480: Train loss: 1.9324, Validation loss: 1.9573\n",
      "Iteration 490: Train loss: 1.9923, Validation loss: 1.9388\n",
      "Iteration 500: Train loss: 1.9791, Validation loss: 1.9677\n",
      "Iteration 510: Train loss: 1.9727, Validation loss: 1.9713\n",
      "Iteration 520: Train loss: 1.9164, Validation loss: 1.9641\n",
      "Iteration 530: Train loss: 1.9429, Validation loss: 1.9664\n",
      "Iteration 540: Train loss: 1.9955, Validation loss: 1.9828\n",
      "Iteration 550: Train loss: 1.9913, Validation loss: 1.9551\n",
      "Iteration 560: Train loss: 1.9347, Validation loss: 1.9635\n",
      "Iteration 570: Train loss: 1.9979, Validation loss: 1.9613\n",
      "Iteration 580: Train loss: 1.9688, Validation loss: 1.9880\n",
      "Iteration 590: Train loss: 1.9450, Validation loss: 1.9299\n",
      "Iteration 600: Train loss: 1.9484, Validation loss: 1.9543\n",
      "Iteration 610: Train loss: 1.9310, Validation loss: 1.9319\n",
      "Iteration 620: Train loss: 1.9572, Validation loss: 1.9440\n",
      "Iteration 630: Train loss: 1.9600, Validation loss: 1.9196\n",
      "Iteration 640: Train loss: 1.9685, Validation loss: 1.9633\n",
      "Iteration 650: Train loss: 1.9701, Validation loss: 1.9342\n",
      "Iteration 660: Train loss: 1.9170, Validation loss: 1.9566\n",
      "Iteration 670: Train loss: 1.9419, Validation loss: 1.9493\n",
      "Iteration 680: Train loss: 1.9398, Validation loss: 1.9546\n",
      "Iteration 690: Train loss: 1.9951, Validation loss: 1.9786\n",
      "Iteration 700: Train loss: 1.9591, Validation loss: 1.9475\n",
      "Iteration 710: Train loss: 1.9798, Validation loss: 1.9685\n",
      "Iteration 720: Train loss: 1.9856, Validation loss: 1.9695\n",
      "Iteration 730: Train loss: 1.9169, Validation loss: 1.9728\n",
      "Iteration 740: Train loss: 1.9998, Validation loss: 1.9667\n",
      "Iteration 750: Train loss: 1.9359, Validation loss: 1.9391\n",
      "Iteration 760: Train loss: 2.0134, Validation loss: 1.9548\n",
      "Iteration 770: Train loss: 1.9736, Validation loss: 1.9641\n",
      "Iteration 780: Train loss: 1.9381, Validation loss: 1.9358\n",
      "Iteration 790: Train loss: 2.0077, Validation loss: 1.9462\n",
      "Iteration 800: Train loss: 1.9504, Validation loss: 1.9515\n",
      "Iteration 810: Train loss: 1.9542, Validation loss: 1.9754\n",
      "Iteration 820: Train loss: 1.9538, Validation loss: 1.9503\n",
      "Iteration 830: Train loss: 1.9793, Validation loss: 1.9475\n",
      "Iteration 840: Train loss: 2.0206, Validation loss: 1.9702\n",
      "Iteration 850: Train loss: 1.9674, Validation loss: 1.9646\n",
      "Iteration 860: Train loss: 1.9478, Validation loss: 1.9385\n",
      "Iteration 870: Train loss: 1.9278, Validation loss: 1.9506\n",
      "Iteration 880: Train loss: 1.9644, Validation loss: 1.9609\n",
      "Iteration 890: Train loss: 1.9579, Validation loss: 1.9396\n",
      "Iteration 900: Train loss: 1.9746, Validation loss: 1.9484\n",
      "Iteration 910: Train loss: 1.9385, Validation loss: 1.9492\n",
      "Iteration 920: Train loss: 1.9408, Validation loss: 1.9207\n",
      "Iteration 930: Train loss: 1.9569, Validation loss: 1.9297\n",
      "Iteration 940: Train loss: 1.9310, Validation loss: 1.9475\n",
      "Iteration 950: Train loss: 1.9464, Validation loss: 1.9641\n",
      "Iteration 960: Train loss: 1.9727, Validation loss: 1.9529\n",
      "Iteration 970: Train loss: 1.9700, Validation loss: 1.9064\n",
      "Iteration 980: Train loss: 1.8975, Validation loss: 1.9663\n",
      "Iteration 990: Train loss: 1.9400, Validation loss: 1.9214\n"
     ]
    }
   ],
   "source": [
    "model = LogisticRegression(p, len(classes))\n",
    "iterations = 1000\n",
    "batch_size = 256\n",
    "learning_rate = 0.1\n",
    "loss_function = torch.nn.CrossEntropyLoss()\n",
    "optimizer = torch.optim.SGD(model.parameters(), lr=learning_rate, weight_decay=0.01)\n",
    "\n",
    "X_train_tensor = torch.FloatTensor(X[train_indices])\n",
    "y_train_tensor = torch.LongTensor(y[train_indices].argmax(axis=1))\n",
    "train_losses, val_losses = [], []\n",
    "\n",
    "for i in range(iterations):\n",
    "    # Sample a random batch\n",
    "    indices = torch.randperm(len(X_train_tensor))[:batch_size]\n",
    "    X_batch = X_train_tensor[indices]\n",
    "    y_batch = y_train_tensor[indices]\n",
    "    \n",
    "    # Forward model on batch\n",
    "    preds = model(X_batch)\n",
    "\n",
    "    # Calculate loss\n",
    "    loss = loss_function(preds, y_batch)\n",
    "\n",
    "    # Backpropagate\n",
    "    optimizer.zero_grad()\n",
    "    loss.backward()\n",
    "\n",
    "    # Take step\n",
    "    optimizer.step()\n",
    "    train_losses.append(loss.item())\n",
    "    \n",
    "    # Create a validation set (using a different random subset)\n",
    "    val_indices = torch.randperm(len(X_train_tensor))[:batch_size*2]\n",
    "    X_val = X_train_tensor[val_indices]\n",
    "    y_val = y_train_tensor[val_indices]\n",
    "    \n",
    "    with torch.no_grad():\n",
    "        val_preds = model(X_val)\n",
    "        val_loss = loss_function(val_preds, y_val).item()\n",
    "        val_losses.append(val_loss)\n",
    "\n",
    "    if i % 10 == 0:\n",
    "        print(f\"Iteration {i}: Train loss: {loss.item():.4f}, Validation loss: {val_loss:.4f}\")"
   ]
  },
  {
   "cell_type": "code",
   "execution_count": 108,
   "id": "82799a54",
   "metadata": {},
   "outputs": [
    {
     "data": {
      "text/plain": [
       "[<matplotlib.lines.Line2D at 0x16b7b1100>]"
      ]
     },
     "execution_count": 108,
     "metadata": {},
     "output_type": "execute_result"
    },
    {
     "data": {
      "image/png": "[encoded data removed]",
      "text/plain": [
       "<Figure size 640x480 with 1 Axes>"
      ]
     },
     "metadata": {},
     "output_type": "display_data"
    }
   ],
   "source": [
    "fig, ax = plt.subplots()\n",
    "ax.plot(train_losses, color='blue')\n",
    "ax.plot(val_losses, color='red')"
   ]
  },
  {
   "cell_type": "code",
   "execution_count": 109,
   "id": "e1169642",
   "metadata": {},
   "outputs": [
    {
     "data": {
      "text/plain": [
       "0.6247877478599548"
      ]
     },
     "execution_count": 109,
     "metadata": {},
     "output_type": "execute_result"
    }
   ],
   "source": [
    "X_test = torch.FloatTensor(X[test_indices])\n",
    "y_test = torch.LongTensor(y[test_indices])\n",
    "\n",
    "with torch.no_grad():\n",
    "    y_pred = model(X_test)\n",
    "\n",
    "_, predicted = torch.max(y_pred, dim=1)\n",
    "_, true_labels = torch.max(y_test, dim=1)\n",
    "accuracy = (predicted == true_labels).float().mean().item()\n",
    "accuracy"
   ]
  }
 ],
 "metadata": {
  "kernelspec": {
   "display_name": "env",
   "language": "python",
   "name": "python3"
  },
  "language_info": {
   "codemirror_mode": {
    "name": "ipython",
    "version": 3
   },
   "file_extension": ".py",
   "mimetype": "text/x-python",
   "name": "python",
   "nbconvert_exporter": "python",
   "pygments_lexer": "ipython3",
   "version": "3.12.7"
  }
 },
 "nbformat": 4,
 "nbformat_minor": 5
}
